{
 "cells": [
  {
   "cell_type": "code",
   "execution_count": null,
   "id": "86648ef7",
   "metadata": {},
   "outputs": [],
   "source": [
    "# problem set 1\n",
    "beta = 0.9\n",
    "alpha = 0.3\n",
    "delta = 0.1\n",
    "k_stst = ((1-beta + beta*delta)/(alpha*beta))^(1/(alpha-1))\n",
    "\n",
    "\n"
   ]
  },
  {
   "cell_type": "code",
   "execution_count": null,
   "id": "01d5b612",
   "metadata": {},
   "outputs": [],
   "source": []
  }
 ],
 "metadata": {
  "kernelspec": {
   "display_name": ".venv (3.13.3)",
   "language": "python",
   "name": "python3"
  },
  "language_info": {
   "name": "python",
   "version": "3.13.3"
  }
 },
 "nbformat": 4,
 "nbformat_minor": 5
}
